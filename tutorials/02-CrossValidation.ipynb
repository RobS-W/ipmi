{
 "cells": [
  {
   "cell_type": "markdown",
   "metadata": {},
   "source": [
    "# 2 Linear Regression - cross validation (Python)"
   ]
  },
  {
   "cell_type": "markdown",
   "metadata": {},
   "source": [
    "## 2.1 Utility Functions\n",
    "Re-write a few things in the previous tutorial as functions for convinience. "
   ]
  },
  {
   "cell_type": "code",
   "execution_count": null,
   "metadata": {},
   "outputs": [],
   "source": [
    "# two functions based on the previous section\n",
    "def polynomial_basis(x, deg)\n",
    "    X = []\n",
    "\n",
    "def polynomial_fit(x, t, deg):\n",
    "    X = \n",
    "    w = np.linalg.lstsq(t, x, rcond=None)\n",
    "    return w\n",
    "\n",
    "\n",
    "def polynomial_evaluate(x, w):\n",
    "    t = np.matmul(x, w)\n",
    "    return t\n"
   ]
  }
 ],
 "metadata": {
  "kernelspec": {
   "display_name": "Python 3",
   "language": "python",
   "name": "python3"
  },
  "language_info": {
   "codemirror_mode": {
    "name": "ipython",
    "version": 3
   },
   "file_extension": ".py",
   "mimetype": "text/x-python",
   "name": "python",
   "nbconvert_exporter": "python",
   "pygments_lexer": "ipython3",
   "version": "3.6.6"
  }
 },
 "nbformat": 4,
 "nbformat_minor": 2
}
