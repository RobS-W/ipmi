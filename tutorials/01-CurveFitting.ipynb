{
 "cells": [
  {
   "cell_type": "markdown",
   "metadata": {
    "colab_type": "text",
    "id": "NDdbPOAglmA2"
   },
   "source": [
    "# 1 Linear Regression - curve fitting (Python)"
   ]
  },
  {
   "cell_type": "markdown",
   "metadata": {
    "colab_type": "text",
    "id": "pq93TYwjlmA8"
   },
   "source": [
    "## 1.1 Data generation\n",
    "\n",
    "\\begin{equation}\n",
    "t = w_2x^2 + w_1x +w_0\n",
    "\\end{equation}\n",
    "\n",
    "\n",
    "This is the \"true\" model for the curve."
   ]
  },
  {
   "cell_type": "code",
   "execution_count": 1,
   "metadata": {
    "colab": {},
    "colab_type": "code",
    "id": "fNL18VKdlmBB"
   },
   "outputs": [
    {
     "name": "stdout",
     "output_type": "stream",
     "text": [
      "[-1.0, -0.9, -0.8, -0.7, -0.6, -0.5, -0.4, -0.3, -0.2, -0.1, 0.0, 0.1, 0.2, 0.3, 0.4, 0.5, 0.6, 0.7, 0.8, 0.9]\n",
      "[2.0, 1.6300000000000001, 1.3200000000000003, 1.0699999999999998, 0.8800000000000001, 0.75, 0.68, 0.67, 0.72, 0.83, 1.0, 1.23, 1.52, 1.87, 2.2800000000000002, 2.75, 3.2800000000000002, 3.8699999999999997, 4.5200000000000005, 5.23]\n"
     ]
    }
   ],
   "source": [
    "import random\n",
    "\n",
    "# get ground-truth data from the \"true\" model \n",
    "n = 20  # number of data samples\n",
    "x = [(idx-round(n/2))/(n/2) for idx in range(n)]\n",
    "print(x)\n",
    "\n",
    "w = [1, 2, 3]\n",
    "t = [xn**2*w[2] + xn*w[1] + w[0] for xn in x]\n",
    "print(t)\n",
    "\n",
    "# adding noise to \"simulate\" the observed target values\n",
    "std_noise = 0.2\n",
    "t_observed = [t[idx]+random.gauss(0,std_noise) for idx in range(n)]"
   ]
  },
  {
   "cell_type": "code",
   "execution_count": 2,
   "metadata": {
    "colab": {},
    "colab_type": "code",
    "id": "s-vN0zD8lmBa"
   },
   "outputs": [
    {
     "data": {
      "text/plain": [
       "[<matplotlib.lines.Line2D at 0x7fa068098dd8>]"
      ]
     },
     "execution_count": 2,
     "metadata": {},
     "output_type": "execute_result"
    },
    {
     "data": {
      "image/png": "[encoded data removed]",
      "text/plain": [
       "<Figure size 432x288 with 1 Axes>"
      ]
     },
     "metadata": {
      "needs_background": "light"
     },
     "output_type": "display_data"
    }
   ],
   "source": [
    "import matplotlib.pyplot as plt\n",
    "%matplotlib inline\n",
    "\n",
    "# plot the curve and the noise-corrupted data\n",
    "plt.plot(x,t,'r')\n",
    "plt.plot(x,t_observed,'bo')"
   ]
  },
  {
   "cell_type": "markdown",
   "metadata": {
    "colab_type": "text",
    "id": "XyAazZJKlmBx"
   },
   "source": [
    "## 1.2 Model Fitting\n",
    "Re-arrange to a linear system in matrix form $\\textbf{a}\\textbf{x}=\\textbf{b}$ (N.B. the x is the unknown here, not the learning input x):\n",
    "\n",
    "\\begin{equation}\n",
    "\\textbf{t} = \\textbf{X}\\textbf{w}\n",
    "\\end{equation}\n",
    "\n",
    "that is:\n",
    "\n",
    "\\begin{equation}\n",
    "\\begin{vmatrix}\n",
    "t_{(1)} \\\\ t_{(2)} \\\\ \\cdots \\\\ t_{(n)}\n",
    "\\end{vmatrix} = \\begin{vmatrix}\n",
    "x^2_{(1)} & x_{(1)} & 1 \\\\\n",
    "x^2_{(2)} & x_{(2)} & 1 \\\\\n",
    "& \\cdots \\\\\n",
    "x^2_{(n)} & x_{(n)} & 1 \n",
    "\\end{vmatrix} \\cdot\n",
    "\\begin{vmatrix}\n",
    "w_2 \\\\ w_1 \\\\ w_0\n",
    "\\end{vmatrix}\n",
    "\\end{equation}\n",
    "\n"
   ]
  },
  {
   "cell_type": "code",
   "execution_count": 5,
   "metadata": {
    "colab": {},
    "colab_type": "code",
    "id": "4kLuMm_vlmB0"
   },
   "outputs": [
    {
     "name": "stdout",
     "output_type": "stream",
     "text": [
      "[[ 1.   -1.    1.  ]\n",
      " [ 0.81 -0.9   1.  ]\n",
      " [ 0.64 -0.8   1.  ]\n",
      " [ 0.49 -0.7   1.  ]\n",
      " [ 0.36 -0.6   1.  ]\n",
      " [ 0.25 -0.5   1.  ]\n",
      " [ 0.16 -0.4   1.  ]\n",
      " [ 0.09 -0.3   1.  ]\n",
      " [ 0.04 -0.2   1.  ]\n",
      " [ 0.01 -0.1   1.  ]\n",
      " [ 0.    0.    1.  ]\n",
      " [ 0.01  0.1   1.  ]\n",
      " [ 0.04  0.2   1.  ]\n",
      " [ 0.09  0.3   1.  ]\n",
      " [ 0.16  0.4   1.  ]\n",
      " [ 0.25  0.5   1.  ]\n",
      " [ 0.36  0.6   1.  ]\n",
      " [ 0.49  0.7   1.  ]\n",
      " [ 0.64  0.8   1.  ]\n",
      " [ 0.81  0.9   1.  ]]\n",
      "(20, 3)\n",
      "(20, 1)\n",
      "[[3.07773658]\n",
      " [2.08787016]\n",
      " [0.93194893]]\n"
     ]
    },
    {
     "data": {
      "text/plain": [
       "[<matplotlib.lines.Line2D at 0x7fa0592e02e8>]"
      ]
     },
     "execution_count": 5,
     "metadata": {},
     "output_type": "execute_result"
    },
    {
     "data": {
      "image/png": "[encoded data removed]",
      "text/plain": [
       "<Figure size 432x288 with 1 Axes>"
      ]
     },
     "metadata": {
      "needs_background": "light"
     },
     "output_type": "display_data"
    }
   ],
   "source": [
    "import numpy as np\n",
    "\n",
    "# then use nunmpy for a least-square solution to the linear system \"Xw=t\"\n",
    "t_observed = np.reshape(t_observed, [-1, 1])\n",
    "x_1 = np.reshape(x, [-1, 1])\n",
    "x_2 = np.square(x_1)\n",
    "x_0 = np.ones_like(x_1)\n",
    "X = np.concatenate([x_2,x_1,x_0],1)\n",
    "# print to check the inputs\n",
    "print(X)\n",
    "print(X.shape)\n",
    "print(t_observed.shape)\n",
    "w_estimate = np.linalg.lstsq(X, t_observed, rcond=None)\n",
    "print(w_estimate[0])  # print the output\n",
    "\n",
    "# plot to see the estimated curve, i.e.\n",
    "# t_estimate = [xn**2*w_estimate[2]+xn*w_estimate[1]+w_estimate[0] for xn in x]\n",
    "# but matrix multiplication is more compact:\n",
    "t_estimate = np.matmul(X,w_estimate[0])\n",
    "\n",
    "plt.plot(x,t,'r')\n",
    "plt.plot(x,t_observed,'bo')\n",
    "plt.plot(x,t_estimate,'g')"
   ]
  },
  {
   "cell_type": "markdown",
   "metadata": {
    "colab_type": "text",
    "id": "_zaoUWBtlmCC"
   },
   "source": [
    "## 1.3 Model Fitting Error\n",
    "This is also known as training error."
   ]
  },
  {
   "cell_type": "code",
   "execution_count": 4,
   "metadata": {
    "colab": {},
    "colab_type": "code",
    "id": "SxRPpS-s_EPP"
   },
   "outputs": [
    {
     "name": "stdout",
     "output_type": "stream",
     "text": [
      "0.5805737219838287\n",
      "0.1703780681284755\n"
     ]
    },
    {
     "data": {
      "text/plain": [
       "(array([1., 2., 0., 1., 5., 0., 4., 2., 1., 4.]),\n",
       " array([-0.35810049, -0.29722313, -0.23634578, -0.17546842, -0.11459106,\n",
       "        -0.0537137 ,  0.00716366,  0.06804102,  0.12891837,  0.18979573,\n",
       "         0.25067309]),\n",
       " <a list of 10 Patch objects>)"
      ]
     },
     "execution_count": 4,
     "metadata": {},
     "output_type": "execute_result"
    },
    {
     "data": {
      "image/png": "[encoded data removed]",
      "text/plain": [
       "<Figure size 432x288 with 1 Axes>"
      ]
     },
     "metadata": {
      "needs_background": "light"
     },
     "output_type": "display_data"
    }
   ],
   "source": [
    "# residuals:\n",
    "Residuals = t_estimate-t_observed\n",
    "SR = np.sum(np.square(Residuals))  # sums of residuals: b - a*x\n",
    "# root-mean-square error\n",
    "RMSE = np.sqrt(np.mean(np.square(Residuals)))\n",
    "print(SR)\n",
    "print(RMSE)\n",
    "\n",
    "# plot the error distribution\n",
    "plt.hist(Residuals)"
   ]
  },
  {
   "cell_type": "markdown",
   "metadata": {
    "colab_type": "text",
    "id": "hUlz_pjSSwv9"
   },
   "source": [
    "## Questions\n",
    "### Sample size\n",
    "- Effect on changing the sample size on model fitting and its errors.\n",
    "- How many samples are needed?\n",
    "\n",
    "### Model fitting\n",
    "- What is the objective (loss) function?\n",
    "- What is the difference to the true target values?\n",
    "- How to measure goodness-of-fit?"
   ]
  }
 ],
 "metadata": {
  "colab": {
   "collapsed_sections": [],
   "name": "tutorials_01-LinearRegression.ipynb",
   "provenance": [],
   "version": "0.3.2"
  },
  "kernelspec": {
   "display_name": "Python 3",
   "language": "python",
   "name": "python3"
  },
  "language_info": {
   "codemirror_mode": {
    "name": "ipython",
    "version": 3.0
   },
   "file_extension": ".py",
   "mimetype": "text/x-python",
   "name": "python",
   "nbconvert_exporter": "python",
   "pygments_lexer": "ipython3",
   "version": "3.6.6"
  }
 },
 "nbformat": 4,
 "nbformat_minor": 0
}