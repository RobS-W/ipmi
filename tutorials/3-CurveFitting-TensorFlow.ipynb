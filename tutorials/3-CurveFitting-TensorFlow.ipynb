{
 "cells": [
  {
   "cell_type": "code",
   "execution_count": 1,
   "metadata": {},
   "outputs": [],
   "source": [
    "import random\n",
    "\n",
    "# get ground-truth data from the \"true\" model \n",
    "n = 20 \n",
    "x = [(idx-round(n/2))/(n/2) for idx in range(n)]\n",
    "w = [1, 2, 3, 4]\n",
    "t = [xn**3*w[3] + xn**2*w[2] + xn*w[1] + w[0] for xn in x]\n",
    "std_noise = 0.2\n",
    "t_observed = [t[idx]+random.gauss(0,std_noise) for idx in range(n)]"
   ]
  },
  {
   "cell_type": "code",
   "execution_count": null,
   "metadata": {},
   "outputs": [],
   "source": [
    "import tensorflow as tf\n",
    "\n",
    "# build the computation graph including the least-square method\n",
    "ph_x = tf.placeholder(tf.float32, [config['Train']['minibatch_size']]+[1, 12])\n",
    "ph_y\n",
    "X = ph_x\n",
    "w = tf.\n",
    "grid_warped = util.get_reference_grid(ddf.shape[1:4]) + ddf\n",
    "    warped = util.resample_linear(tf.convert_to_tensor(input_, dtype=tf.float32), grid_warped)\n",
    "\n",
    "# build a session    \n",
    "sess = tf.Session()\n",
    "\n",
    "# run the session to evaluate the node weights\n",
    "sess.run(warped)"
   ]
  }
 ],
 "metadata": {
  "kernelspec": {
   "display_name": "Python 3",
   "language": "python",
   "name": "python3"
  },
  "language_info": {
   "codemirror_mode": {
    "name": "ipython",
    "version": 3
   },
   "file_extension": ".py",
   "mimetype": "text/x-python",
   "name": "python",
   "nbconvert_exporter": "python",
   "pygments_lexer": "ipython3",
   "version": "3.6.6"
  }
 },
 "nbformat": 4,
 "nbformat_minor": 2
}
