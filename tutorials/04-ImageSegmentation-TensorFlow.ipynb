{
 "cells": [
  {
   "cell_type": "markdown",
   "metadata": {},
   "source": [
    "# 4 Convolutional Neural Networks - image segmentation (TensorFlow)"
   ]
  },
  {
   "cell_type": "markdown",
   "metadata": {},
   "source": [
    "## 4.1 Image and Label Data\n",
    "The images and labels (segmentations) in [PROMISE12][promise12] are used here. Resampled data can be downloaded here:\n",
    "\n",
    "[Download Data][data_link]\n",
    "\n",
    "Extract the zip file and move the folder *gzip* to a location of your choice and unzip individual files to npy files by running the following python script [*script_unzipfiles*][script_unzipfiles.py].\n",
    "\n",
    "Alternatively on Linux, run:\n",
    "\n",
    "```console\n",
    "gunzip promise12-data/*.gz\n",
    "```\n",
    "\n",
    "The *gzip* folder can be deleted, once the *npy* folder is available. The *npy* folder shoud have all the data needed. For those who are interested, this is the script [*script_promise12*][script_promise12.py] used to produce these data.\n",
    "\n",
    "\n",
    "\n",
    "Additionally, a package contains several simple utility functions. The [*utilities*][utilities.py] module is in the same github repository. If you are using this tutorial with online tools, such as colab, you can click the link to download it.\n",
    "\n",
    "[promise12]: https://promise12.grand-challenge.org/\n",
    "[data_link]: https://github.com/YipengHu/promise12/archive/data.zip\n",
    "[script_promise12.py]: ./data/script_promise12.py\n",
    "[script_unzipfiles.py]: ./data/script_unzipfiles.py\n",
    "[utilities.py]: ./utilities.py"
   ]
  },
  {
   "cell_type": "code",
   "execution_count": null,
   "metadata": {},
   "outputs": [],
   "source": []
  },
  {
   "cell_type": "code",
   "execution_count": null,
   "metadata": {},
   "outputs": [],
   "source": []
  }
 ],
 "metadata": {
  "kernelspec": {
   "display_name": "Python 3",
   "language": "python",
   "name": "python3"
  },
  "language_info": {
   "codemirror_mode": {
    "name": "ipython",
    "version": 3
   },
   "file_extension": ".py",
   "mimetype": "text/x-python",
   "name": "python",
   "nbconvert_exporter": "python",
   "pygments_lexer": "ipython3",
   "version": "3.6.6"
  }
 },
 "nbformat": 4,
 "nbformat_minor": 2
}
