{
 "cells": [
  {
   "cell_type": "markdown",
   "metadata": {},
   "source": [
    "# 1 - Linear Regression - a curve fitting example"
   ]
  },
  {
   "cell_type": "markdown",
   "metadata": {},
   "source": [
    "## 1.1 - Data generation\n",
    "\n",
    "\\begin{equation}\n",
    "y = c_2x^2 + c_1x +c_0\n",
    "\\end{equation}\n",
    "\n",
    "\n",
    "This is the \"true\" model for the curve."
   ]
  },
  {
   "cell_type": "code",
   "execution_count": 1,
   "metadata": {},
   "outputs": [
    {
     "name": "stdout",
     "output_type": "stream",
     "text": [
      "[-1.0, -0.9, -0.8, -0.7, -0.6, -0.5, -0.4, -0.3, -0.2, -0.1, 0.0, 0.1, 0.2, 0.3, 0.4, 0.5, 0.6, 0.7, 0.8, 0.9]\n",
      "[2.0, 1.6300000000000001, 1.3200000000000003, 1.0699999999999998, 0.8800000000000001, 0.75, 0.68, 0.67, 0.72, 0.83, 1.0, 1.23, 1.52, 1.87, 2.2800000000000002, 2.75, 3.2800000000000002, 3.8699999999999997, 4.5200000000000005, 5.23]\n"
     ]
    }
   ],
   "source": [
    "import random\n",
    "\n",
    "# get ground-truth data from the \"true\" model \n",
    "n = 20  # number of data samples\n",
    "x = [(idx-round(n/2))/(n/2) for idx in range(n)]\n",
    "print(x)\n",
    "\n",
    "c = [1, 2, 3]\n",
    "y = [xn**2*c[2] + xn*c[1] + c[0] for xn in x]\n",
    "print(y)\n",
    "\n",
    "# adding noise\n",
    "StD = 0.2\n",
    "y_observed = [y[idx]+random.gauss(0,StD) for idx in range(n)]"
   ]
  },
  {
   "cell_type": "code",
   "execution_count": 2,
   "metadata": {},
   "outputs": [
    {
     "data": {
      "text/plain": [
       "[<matplotlib.lines.Line2D at 0x7f13b7e55b38>]"
      ]
     },
     "execution_count": 2,
     "metadata": {},
     "output_type": "execute_result"
    },
    {
     "data": {
      "image/png": "[encoded data removed]",
      "text/plain": [
       "<Figure size 432x288 with 1 Axes>"
      ]
     },
     "metadata": {
      "needs_background": "light"
     },
     "output_type": "display_data"
    }
   ],
   "source": [
    "import matplotlib.pyplot as plt\n",
    "%matplotlib inline\n",
    "\n",
    "# plot the curve and the noise-corrupted data\n",
    "plt.plot(x,y,'r')\n",
    "plt.plot(x,y_observed,'bx')"
   ]
  },
  {
   "cell_type": "markdown",
   "metadata": {},
   "source": [
    "## 1.2 - Model Fitting\n",
    "Rearrange to get the linear system: \n",
    "\\begin{equation*}\n",
    "\\textbf{Y} = \\textbf{c}\\textbf{X} \\\\\n",
    "\\textbf{Y} ^T = \\textbf{X}^T\\textbf{c}^T \\\\\n",
    "\\begin{vmatrix}\n",
    "y_{(1)} \\\\ y_{(2)} \\\\ \\cdots \\\\ y_{(n)}\n",
    "\\end{vmatrix} = \\begin{vmatrix}\n",
    "x^2_{(1)} & x_{(1)} & 1 \\\\\n",
    "x^2_{(2)} & x_{(2)} & 1 \\\\\n",
    "& \\cdots \\\\\n",
    "x^2_{(n)} & x_{(n)} & 1 \n",
    "\\end{vmatrix} \\cdot\n",
    "\\begin{vmatrix}\n",
    "c_2 & c_1 & c_0\n",
    "\\end{vmatrix}\n",
    "\\end{equation*}\n",
    "\n"
   ]
  },
  {
   "cell_type": "code",
   "execution_count": 3,
   "metadata": {},
   "outputs": [
    {
     "name": "stdout",
     "output_type": "stream",
     "text": [
      "[[ 1.   -1.    1.  ]\n",
      " [ 0.81 -0.9   1.  ]\n",
      " [ 0.64 -0.8   1.  ]\n",
      " [ 0.49 -0.7   1.  ]\n",
      " [ 0.36 -0.6   1.  ]\n",
      " [ 0.25 -0.5   1.  ]\n",
      " [ 0.16 -0.4   1.  ]\n",
      " [ 0.09 -0.3   1.  ]\n",
      " [ 0.04 -0.2   1.  ]\n",
      " [ 0.01 -0.1   1.  ]\n",
      " [ 0.    0.    1.  ]\n",
      " [ 0.01  0.1   1.  ]\n",
      " [ 0.04  0.2   1.  ]\n",
      " [ 0.09  0.3   1.  ]\n",
      " [ 0.16  0.4   1.  ]\n",
      " [ 0.25  0.5   1.  ]\n",
      " [ 0.36  0.6   1.  ]\n",
      " [ 0.49  0.7   1.  ]\n",
      " [ 0.64  0.8   1.  ]\n",
      " [ 0.81  0.9   1.  ]]\n",
      "(20, 3)\n",
      "(20, 1)\n",
      "[[2.79946483]\n",
      " [2.00525716]\n",
      " [1.05413918]]\n"
     ]
    },
    {
     "data": {
      "text/plain": [
       "[<matplotlib.lines.Line2D at 0x7f13b31f6f98>]"
      ]
     },
     "execution_count": 3,
     "metadata": {},
     "output_type": "execute_result"
    },
    {
     "data": {
      "image/png": "[encoded data removed]",
      "text/plain": [
       "<Figure size 432x288 with 1 Axes>"
      ]
     },
     "metadata": {
      "needs_background": "light"
     },
     "output_type": "display_data"
    }
   ],
   "source": [
    "import numpy as np\n",
    "\n",
    "# then use nunmpy for a least-square solution to the linear system \"ax=b\"\n",
    "Y = np.transpose(np.array(y_observed, ndmin=2))\n",
    "x_1 = np.transpose(np.array(x, ndmin=2))\n",
    "x_2 = np.square(x_1)\n",
    "x_0 = np.ones_like(x_1)\n",
    "X = np.concatenate([x_2,x_1,x_0],1)\n",
    "# print to check the inputs\n",
    "print(X)\n",
    "print(X.shape)\n",
    "print(Y.shape)\n",
    "c_estimate = np.linalg.lstsq(X, Y, rcond=None)\n",
    "print(c_estimate[0])  # print the output\n",
    "\n",
    "# plot to see the estimated curve, i.e.\n",
    "# y_estimate = [xn**2*c_estimate[2] + xn*c_estimate[1] + c_estimate[0] for xn in x]\n",
    "# but matrix multiplication may be more compact:\n",
    "y_estimate = np.matmul(X,c_estimate[0])\n",
    "\n",
    "plt.plot(x,y,'r')\n",
    "plt.plot(x,y_observed,'bx')\n",
    "plt.plot(x,y_estimate,'g')"
   ]
  },
  {
   "cell_type": "markdown",
   "metadata": {},
   "source": [
    "## 1.3 - Over-fitting and under-fitting\n",
    "### 1.3.1 - Model complexity\n",
    "More complpex models usually lead to a more expressibility \n",
    "### 1.3.2 - Data availability\n",
    "### 1.3.3 - Bias and variance"
   ]
  }
 ],
 "metadata": {
  "kernelspec": {
   "display_name": "Python 3",
   "language": "python",
   "name": "python3"
  },
  "language_info": {
   "codemirror_mode": {
    "name": "ipython",
    "version": 3
   },
   "file_extension": ".py",
   "mimetype": "text/x-python",
   "name": "python",
   "nbconvert_exporter": "python",
   "pygments_lexer": "ipython3",
   "version": "3.6.6"
  }
 },
 "nbformat": 4,
 "nbformat_minor": 2
}
